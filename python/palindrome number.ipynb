{
 "cells": [
  {
   "cell_type": "code",
   "execution_count": 1,
   "metadata": {
    "collapsed": true
   },
   "outputs": [],
   "source": [
    "class Solution:\n",
    "    # @param x, an integer\n",
    "    # @return a boolean\n",
    "    def isPalindrome(self, x):\n",
    "        if x < 0:\n",
    "            return False\n",
    "\n",
    "        ranger = 1\n",
    "        while x / ranger >= 10:\n",
    "            ranger *= 10\n",
    "\n",
    "        while x:\n",
    "            left = x / ranger\n",
    "            right = x % 10\n",
    "            if left != right:\n",
    "                return False\n",
    "            \n",
    "            x = (x % ranger) / 10\n",
    "            ranger /= 100\n",
    "\n",
    "        return True"
   ]
  },
  {
   "cell_type": "code",
   "execution_count": null,
   "metadata": {
    "collapsed": true
   },
   "outputs": [],
   "source": [
    "x=S"
   ]
  }
 ],
 "metadata": {
  "kernelspec": {
   "display_name": "Python 3",
   "language": "python",
   "name": "python3"
  },
  "language_info": {
   "codemirror_mode": {
    "name": "ipython",
    "version": 3
   },
   "file_extension": ".py",
   "mimetype": "text/x-python",
   "name": "python",
   "nbconvert_exporter": "python",
   "pygments_lexer": "ipython3",
   "version": "3.6.2"
  }
 },
 "nbformat": 4,
 "nbformat_minor": 2
}
