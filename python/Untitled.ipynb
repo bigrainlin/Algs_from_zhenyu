{
 "cells": [
  {
   "cell_type": "code",
   "execution_count": 1,
   "metadata": {
    "collapsed": true
   },
   "outputs": [],
   "source": [
    "class Solution(object):\n",
    "    def twoSum(self, nums, target):\n",
    "        if len(nums) <= 1:\n",
    "            return False\n",
    "        buff_dict = {}\n",
    "        for i in range(len(nums)):\n",
    "            if nums[i] in buff_dict:\n",
    "                return [buff_dict[nums[i]], i]\n",
    "            else:\n",
    "                buff_dict[target - nums[i]] = i"
   ]
  },
  {
   "cell_type": "code",
   "execution_count": 2,
   "metadata": {},
   "outputs": [
    {
     "data": {
      "text/plain": [
       "[0, 1]"
      ]
     },
     "execution_count": 2,
     "metadata": {},
     "output_type": "execute_result"
    }
   ],
   "source": [
    "nums=[2,7,7,2]\n",
    "target=9\n",
    "x=Solution()\n",
    "x.twoSum(nums,target)\n"
   ]
  }
 ],
 "metadata": {
  "kernelspec": {
   "display_name": "Python 3",
   "language": "python",
   "name": "python3"
  },
  "language_info": {
   "codemirror_mode": {
    "name": "ipython",
    "version": 3
   },
   "file_extension": ".py",
   "mimetype": "text/x-python",
   "name": "python",
   "nbconvert_exporter": "python",
   "pygments_lexer": "ipython3",
   "version": "3.6.2"
  }
 },
 "nbformat": 4,
 "nbformat_minor": 2
}
