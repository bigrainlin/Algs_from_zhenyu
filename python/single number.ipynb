{
 "cells": [
  {
   "cell_type": "code",
   "execution_count": 54,
   "metadata": {},
   "outputs": [],
   "source": [
    "from functools import reduce\n",
    "import operator\n",
    "class Solution(object):\n",
    "    def singleNumber1(self, nums):\n",
    "        dic = {}\n",
    "        for num in nums:\n",
    "            dic[num] = dic.get(num, 0)+1\n",
    "        for key, val in dic.items():\n",
    "            if val == 1:\n",
    "                return key\n",
    "\n",
    "    def singleNumber2(self, nums):\n",
    "        res = 0\n",
    "        nn=str(nums)\n",
    "\n",
    "        for num in nn:\n",
    "            res ^= int(num)\n",
    "            print(res)\n",
    "        return res\n",
    "\n",
    "    def singleNumber3(self, nums):\n",
    "        return 2*sum(set(nums))-sum(nums)\n",
    "\n",
    "    def singleNumber4(self, nums):\n",
    "        return reduce(lambda x, y: x ^ y, nums)\n",
    "\n",
    "    def singleNumber(self, nums):\n",
    "       \n",
    "        return reduce(operator.xor, nums)"
   ]
  },
  {
   "cell_type": "code",
   "execution_count": 56,
   "metadata": {},
   "outputs": [
    {
     "name": "stdout",
     "output_type": "stream",
     "text": [
      "1\n",
      "3\n",
      "7\n",
      "3\n",
      "6\n",
      "4\n",
      "1\n",
      "2\n",
      "1\n"
     ]
    },
    {
     "data": {
      "text/plain": [
       "1"
      ]
     },
     "execution_count": 56,
     "metadata": {},
     "output_type": "execute_result"
    }
   ],
   "source": [
    "x=Solution()\n",
    "x.singleNumber2(124452533)"
   ]
  },
  {
   "cell_type": "code",
   "execution_count": 59,
   "metadata": {},
   "outputs": [
    {
     "data": {
      "text/plain": [
       "3"
      ]
     },
     "execution_count": 59,
     "metadata": {},
     "output_type": "execute_result"
    }
   ],
   "source": [
    "a=8\n",
    "b=8\n",
    "c=3\n",
    "a^=b\n",
    "a^=c\n",
    "a\n"
   ]
  }
 ],
 "metadata": {
  "kernelspec": {
   "display_name": "Python 3",
   "language": "python",
   "name": "python3"
  },
  "language_info": {
   "codemirror_mode": {
    "name": "ipython",
    "version": 3
   },
   "file_extension": ".py",
   "mimetype": "text/x-python",
   "name": "python",
   "nbconvert_exporter": "python",
   "pygments_lexer": "ipython3",
   "version": "3.6.2"
  }
 },
 "nbformat": 4,
 "nbformat_minor": 2
}
