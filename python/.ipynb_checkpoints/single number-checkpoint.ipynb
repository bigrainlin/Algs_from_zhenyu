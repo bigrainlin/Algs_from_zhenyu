{
 "cells": [
  {
   "cell_type": "code",
   "execution_count": 37,
   "metadata": {},
   "outputs": [],
   "source": [
    "from functools import reduce\n",
    "import operator\n",
    "class Solution(object):\n",
    "    def singleNumber1(self, nums):\n",
    "        dic = {}\n",
    "        for num in nums:\n",
    "            dic[num] = dic.get(num, 0)+1\n",
    "        for key, val in dic.items():\n",
    "            if val == 1:\n",
    "                return key\n",
    "\n",
    "    def singleNumber2(self, nums):\n",
    "        res = 0\n",
    "        nn=str(nums)\n",
    "        for num in nn:\n",
    "            res ^= int(num)\n",
    "        return res\n",
    "\n",
    "    def singleNumber3(self, nums):\n",
    "        return 2*sum(set(nums))-sum(nums)\n",
    "\n",
    "    def singleNumber4(self, nums):\n",
    "        return reduce(lambda x, y: x ^ y, nums)\n",
    "\n",
    "    def singleNumber(self, nums):\n",
    "       \n",
    "        return reduce(operator.xor, nums)"
   ]
  },
  {
   "cell_type": "code",
   "execution_count": 38,
   "metadata": {},
   "outputs": [
    {
     "data": {
      "text/plain": [
       "1"
      ]
     },
     "execution_count": 38,
     "metadata": {},
     "output_type": "execute_result"
    }
   ],
   "source": [
    "x=Solution()\n",
    "x.singleNumber2(12233)"
   ]
  },
  {
   "cell_type": "code",
   "execution_count": 36,
   "metadata": {},
   "outputs": [
    {
     "data": {
      "text/plain": [
       "1"
      ]
     },
     "execution_count": 36,
     "metadata": {},
     "output_type": "execute_result"
    }
   ],
   "source": [
    "0^1\n"
   ]
  }
 ],
 "metadata": {
  "kernelspec": {
   "display_name": "Python 3",
   "language": "python",
   "name": "python3"
  },
  "language_info": {
   "codemirror_mode": {
    "name": "ipython",
    "version": 3
   },
   "file_extension": ".py",
   "mimetype": "text/x-python",
   "name": "python",
   "nbconvert_exporter": "python",
   "pygments_lexer": "ipython3",
   "version": "3.6.2"
  }
 },
 "nbformat": 4,
 "nbformat_minor": 2
}
