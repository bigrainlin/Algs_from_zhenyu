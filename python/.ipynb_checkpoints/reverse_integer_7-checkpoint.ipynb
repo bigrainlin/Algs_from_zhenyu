{
 "cells": [
  {
   "cell_type": "code",
   "execution_count": 43,
   "metadata": {},
   "outputs": [],
   "source": [
    "class Solution(object):\n",
    "    def reverse(self, x):\n",
    "        \"\"\"\n",
    "        :type x: int\n",
    "        :rtype: int\n",
    "        \"\"\"\n",
    "        y=str(x)\n",
    "        n=len(y)\n",
    "        \n",
    "        ret=0\n",
    "        \n",
    "        absx=abs(x)\n",
    "        \n",
    "        if x<0:\n",
    "            n=n-1\n",
    "            \n",
    "        \n",
    "        \n",
    "        for i in range(n):\n",
    "            ret=ret+int(absx%10*10**(n-i-1))\n",
    "                      \n",
    "            absx=int(absx/10)\n",
    "            \n",
    "        if x<0:\n",
    "            ret=-ret\n",
    "            \n",
    "            \n",
    "        return ret\n",
    "        \n",
    "        \n",
    "        \n",
    "        \n",
    "        \n",
    "        "
   ]
  },
  {
   "cell_type": "code",
   "execution_count": 49,
   "metadata": {},
   "outputs": [
    {
     "data": {
      "text/plain": [
       "-3001"
      ]
     },
     "execution_count": 49,
     "metadata": {},
     "output_type": "execute_result"
    }
   ],
   "source": [
    "input=-1003\n",
    "x=Solution()\n",
    "x.reverse(input)\n"
   ]
  }
 ],
 "metadata": {
  "kernelspec": {
   "display_name": "Python 3",
   "language": "python",
   "name": "python3"
  },
  "language_info": {
   "codemirror_mode": {
    "name": "ipython",
    "version": 3
   },
   "file_extension": ".py",
   "mimetype": "text/x-python",
   "name": "python",
   "nbconvert_exporter": "python",
   "pygments_lexer": "ipython3",
   "version": "3.6.2"
  }
 },
 "nbformat": 4,
 "nbformat_minor": 2
}
